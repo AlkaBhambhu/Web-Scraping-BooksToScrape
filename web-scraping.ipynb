{
 "cells": [
  {
   "cell_type": "markdown",
   "metadata": {},
   "source": [
    "# Web-scraping Books to Scrape"
   ]
  },
  {
   "cell_type": "markdown",
   "metadata": {},
   "source": [
    "<img src= \"https://i.pinimg.com/564x/21/4c/cf/214ccffd449f7c7fd9693e4cf7a913d3.jpg\" width = 600  height = 400/>"
   ]
  },
  {
   "cell_type": "markdown",
   "metadata": {},
   "source": [
    "> Web scraping is the process of extracting and parsing data from websites in an automated fashion using a computer program. It's a useful technique for creating datasets for research and learning.\n",
    "\n",
    "For this project, I would scrape books information from the website [Books to Scrape]('http://books.toscrape.com/index.html'), a fictional bookstore for learners and developers validating their scraping technologies. Thanks to the active python community, python offers a variety of libraries to scrape the web and collect the required data.\n",
    "\n",
    "Libraries used:\n",
    " - **Requests** : To download and save web pages locally\n",
    " - **BeautifulSoup** : To parse and explore the structure of downloaded web pages\n",
    " - **Pandas** : To transform the data into Dataframe\n",
    "\n",
    " ### Project Outline :\n",
    " \n",
    " 1. Examining the [Books to Scrape]('http://books.toscrape.com/index.html') website.\n",
    " 2. Reading the web page into python using Requests library.\n",
    " 3. Inspecting the tags to gather the required information.\n",
    " 4. Create a list of URL of all books looping through page 1-50.\n",
    " 5. For each book, we'll grab title, Price, Stock, UPC (universal product code) & link.\n",
    " 6. Compile 1000 books details into list of dictionaries.\n",
    " 7. Create a data frame using Pandas library.\n",
    " 8. Finally, saving the information into a CSV file.\n"
   ]
  },
  {
   "cell_type": "markdown",
   "metadata": {},
   "source": [
    "## Installing & Importing the libraries"
   ]
  },
  {
   "cell_type": "code",
   "execution_count": 1,
   "metadata": {},
   "outputs": [],
   "source": [
    "!pip install jovian --upgrade --quiet\n",
    "!pip install requests --upgrade --quiet\n",
    "!pip install beautifulsoup4 --upgrade --quiet\n",
    "!pip install pandas --upgrade --quiet"
   ]
  },
  {
   "cell_type": "markdown",
   "metadata": {},
   "source": [
    "Import the required libraries."
   ]
  },
  {
   "cell_type": "code",
   "execution_count": 2,
   "metadata": {},
   "outputs": [],
   "source": [
    "import jovian\n",
    "import requests\n",
    "from bs4 import BeautifulSoup as BS"
   ]
  },
  {
   "cell_type": "markdown",
   "metadata": {},
   "source": [
    "## Loading the webpage"
   ]
  },
  {
   "cell_type": "markdown",
   "metadata": {},
   "source": [
    "Let's look at the URL for the book."
   ]
  },
  {
   "cell_type": "code",
   "execution_count": 3,
   "metadata": {},
   "outputs": [
    {
     "name": "stdout",
     "output_type": "stream",
     "text": [
      "http://books.toscrape.comcatalogue/a-light-in-the-attic_1000/index.html\n"
     ]
    }
   ],
   "source": [
    "Landing_page = 'http://books.toscrape.com'\n",
    "# Download the page\n",
    "r = requests.get(Landing_page)\n",
    "# Parse using beautifulsoup\n",
    "s = BS(r.content, 'lxml')\n",
    "\n",
    "link = s.find_all('h3')\n",
    "print('http://books.toscrape.com' + link[0].a['href'])"
   ]
  },
  {
   "cell_type": "markdown",
   "metadata": {},
   "source": [
    "![](https://i.imgur.com/yNBvPiu.png)"
   ]
  },
  {
   "cell_type": "markdown",
   "metadata": {},
   "source": [
    "We got the URL for 1st movie, now we can loop through all 50 pages to create a list of books URL."
   ]
  },
  {
   "cell_type": "code",
   "execution_count": 4,
   "metadata": {},
   "outputs": [],
   "source": [
    "booklinks = []\n",
    "for x in range(1,51):\n",
    "    page_link = f'http://books.toscrape.com/catalogue/page-{x}.html'\n",
    "    response = requests.get(page_link)\n",
    "    soup = BS(response.content, 'lxml')\n",
    "    booklist = soup.find_all('h3')\n",
    "    for book in booklist:\n",
    "        for link in book.find_all('a'):\n",
    "            booklinks.append('http://books.toscrape.com/catalogue/' + link['href'])"
   ]
  },
  {
   "cell_type": "code",
   "execution_count": 5,
   "metadata": {},
   "outputs": [
    {
     "data": {
      "text/plain": [
       "1000"
      ]
     },
     "execution_count": 5,
     "metadata": {},
     "output_type": "execute_result"
    }
   ],
   "source": [
    "len(booklinks)"
   ]
  },
  {
   "cell_type": "markdown",
   "metadata": {},
   "source": [
    "Now, we have got a list of URLs for 1000 books. We can use these URLs to extract the information for each book. \n",
    "\n",
    "Let's look at the page we will inspect to retrieve the required details.\n",
    "\n",
    "![](https://i.imgur.com/RL5100F.png)"
   ]
  },
  {
   "cell_type": "code",
   "execution_count": 6,
   "metadata": {},
   "outputs": [],
   "source": [
    "bookinfo = [] #create a list to store dictonary\n",
    "\n",
    "for link in booklinks:  \n",
    "    bresponse = requests.get(link) #loop through the links list, created earlier\n",
    "    bsoup = BS(bresponse.content, 'lxml')\n",
    "\n",
    "    title = bsoup.h1.text.strip()\n",
    "    price = bsoup.find('p', {'class': 'price_color'}).text\n",
    "    stock = bsoup.find('p', {'class': 'instock availability'}).text.strip()\n",
    "    UPC = bsoup.find('td').text.strip()\n",
    "   \n",
    "    books = {  # create a dictionary to store each book's details \n",
    "        'Title' : title,\n",
    "        'Price' : price,\n",
    "        'Stock' : stock,\n",
    "        'UPC' : UPC,\n",
    "        'Link' : link\n",
    "    }\n",
    "    bookinfo.append(books)"
   ]
  },
  {
   "cell_type": "code",
   "execution_count": 7,
   "metadata": {},
   "outputs": [
    {
     "data": {
      "text/plain": [
       "[{'Title': 'A Light in the Attic',\n",
       "  'Price': '£51.77',\n",
       "  'Stock': 'In stock (22 available)',\n",
       "  'UPC': 'a897fe39b1053632',\n",
       "  'Link': 'http://books.toscrape.com/catalogue/a-light-in-the-attic_1000/index.html'},\n",
       " {'Title': 'Tipping the Velvet',\n",
       "  'Price': '£53.74',\n",
       "  'Stock': 'In stock (20 available)',\n",
       "  'UPC': '90fa61229261140a',\n",
       "  'Link': 'http://books.toscrape.com/catalogue/tipping-the-velvet_999/index.html'}]"
      ]
     },
     "execution_count": 7,
     "metadata": {},
     "output_type": "execute_result"
    }
   ],
   "source": [
    "bookinfo[:2]"
   ]
  },
  {
   "cell_type": "markdown",
   "metadata": {},
   "source": [
    "We will now convert the list into a data frame using the pandas library."
   ]
  },
  {
   "cell_type": "code",
   "execution_count": 8,
   "metadata": {},
   "outputs": [
    {
     "data": {
      "text/html": [
       "<div>\n",
       "<style scoped>\n",
       "    .dataframe tbody tr th:only-of-type {\n",
       "        vertical-align: middle;\n",
       "    }\n",
       "\n",
       "    .dataframe tbody tr th {\n",
       "        vertical-align: top;\n",
       "    }\n",
       "\n",
       "    .dataframe thead th {\n",
       "        text-align: right;\n",
       "    }\n",
       "</style>\n",
       "<table border=\"1\" class=\"dataframe\">\n",
       "  <thead>\n",
       "    <tr style=\"text-align: right;\">\n",
       "      <th></th>\n",
       "      <th>Title</th>\n",
       "      <th>Price</th>\n",
       "      <th>Stock</th>\n",
       "      <th>UPC</th>\n",
       "      <th>Link</th>\n",
       "    </tr>\n",
       "  </thead>\n",
       "  <tbody>\n",
       "    <tr>\n",
       "      <th>0</th>\n",
       "      <td>A Light in the Attic</td>\n",
       "      <td>£51.77</td>\n",
       "      <td>In stock (22 available)</td>\n",
       "      <td>a897fe39b1053632</td>\n",
       "      <td>http://books.toscrape.com/catalogue/a-light-in...</td>\n",
       "    </tr>\n",
       "    <tr>\n",
       "      <th>1</th>\n",
       "      <td>Tipping the Velvet</td>\n",
       "      <td>£53.74</td>\n",
       "      <td>In stock (20 available)</td>\n",
       "      <td>90fa61229261140a</td>\n",
       "      <td>http://books.toscrape.com/catalogue/tipping-th...</td>\n",
       "    </tr>\n",
       "    <tr>\n",
       "      <th>2</th>\n",
       "      <td>Soumission</td>\n",
       "      <td>£50.10</td>\n",
       "      <td>In stock (20 available)</td>\n",
       "      <td>6957f44c3847a760</td>\n",
       "      <td>http://books.toscrape.com/catalogue/soumission...</td>\n",
       "    </tr>\n",
       "    <tr>\n",
       "      <th>3</th>\n",
       "      <td>Sharp Objects</td>\n",
       "      <td>£47.82</td>\n",
       "      <td>In stock (20 available)</td>\n",
       "      <td>e00eb4fd7b871a48</td>\n",
       "      <td>http://books.toscrape.com/catalogue/sharp-obje...</td>\n",
       "    </tr>\n",
       "    <tr>\n",
       "      <th>4</th>\n",
       "      <td>Sapiens: A Brief History of Humankind</td>\n",
       "      <td>£54.23</td>\n",
       "      <td>In stock (20 available)</td>\n",
       "      <td>4165285e1663650f</td>\n",
       "      <td>http://books.toscrape.com/catalogue/sapiens-a-...</td>\n",
       "    </tr>\n",
       "    <tr>\n",
       "      <th>5</th>\n",
       "      <td>The Requiem Red</td>\n",
       "      <td>£22.65</td>\n",
       "      <td>In stock (19 available)</td>\n",
       "      <td>f77dbf2323deb740</td>\n",
       "      <td>http://books.toscrape.com/catalogue/the-requie...</td>\n",
       "    </tr>\n",
       "    <tr>\n",
       "      <th>6</th>\n",
       "      <td>The Dirty Little Secrets of Getting Your Dream...</td>\n",
       "      <td>£33.34</td>\n",
       "      <td>In stock (19 available)</td>\n",
       "      <td>2597b5a345f45e1b</td>\n",
       "      <td>http://books.toscrape.com/catalogue/the-dirty-...</td>\n",
       "    </tr>\n",
       "    <tr>\n",
       "      <th>7</th>\n",
       "      <td>The Coming Woman: A Novel Based on the Life of...</td>\n",
       "      <td>£17.93</td>\n",
       "      <td>In stock (19 available)</td>\n",
       "      <td>e72a5dfc7e9267b2</td>\n",
       "      <td>http://books.toscrape.com/catalogue/the-coming...</td>\n",
       "    </tr>\n",
       "    <tr>\n",
       "      <th>8</th>\n",
       "      <td>The Boys in the Boat: Nine Americans and Their...</td>\n",
       "      <td>£22.60</td>\n",
       "      <td>In stock (19 available)</td>\n",
       "      <td>e10e1e165dc8be4a</td>\n",
       "      <td>http://books.toscrape.com/catalogue/the-boys-i...</td>\n",
       "    </tr>\n",
       "    <tr>\n",
       "      <th>9</th>\n",
       "      <td>The Black Maria</td>\n",
       "      <td>£52.15</td>\n",
       "      <td>In stock (19 available)</td>\n",
       "      <td>1dfe412b8ac00530</td>\n",
       "      <td>http://books.toscrape.com/catalogue/the-black-...</td>\n",
       "    </tr>\n",
       "  </tbody>\n",
       "</table>\n",
       "</div>"
      ],
      "text/plain": [
       "                                               Title   Price  \\\n",
       "0                               A Light in the Attic  £51.77   \n",
       "1                                 Tipping the Velvet  £53.74   \n",
       "2                                         Soumission  £50.10   \n",
       "3                                      Sharp Objects  £47.82   \n",
       "4              Sapiens: A Brief History of Humankind  £54.23   \n",
       "5                                    The Requiem Red  £22.65   \n",
       "6  The Dirty Little Secrets of Getting Your Dream...  £33.34   \n",
       "7  The Coming Woman: A Novel Based on the Life of...  £17.93   \n",
       "8  The Boys in the Boat: Nine Americans and Their...  £22.60   \n",
       "9                                    The Black Maria  £52.15   \n",
       "\n",
       "                     Stock               UPC  \\\n",
       "0  In stock (22 available)  a897fe39b1053632   \n",
       "1  In stock (20 available)  90fa61229261140a   \n",
       "2  In stock (20 available)  6957f44c3847a760   \n",
       "3  In stock (20 available)  e00eb4fd7b871a48   \n",
       "4  In stock (20 available)  4165285e1663650f   \n",
       "5  In stock (19 available)  f77dbf2323deb740   \n",
       "6  In stock (19 available)  2597b5a345f45e1b   \n",
       "7  In stock (19 available)  e72a5dfc7e9267b2   \n",
       "8  In stock (19 available)  e10e1e165dc8be4a   \n",
       "9  In stock (19 available)  1dfe412b8ac00530   \n",
       "\n",
       "                                                Link  \n",
       "0  http://books.toscrape.com/catalogue/a-light-in...  \n",
       "1  http://books.toscrape.com/catalogue/tipping-th...  \n",
       "2  http://books.toscrape.com/catalogue/soumission...  \n",
       "3  http://books.toscrape.com/catalogue/sharp-obje...  \n",
       "4  http://books.toscrape.com/catalogue/sapiens-a-...  \n",
       "5  http://books.toscrape.com/catalogue/the-requie...  \n",
       "6  http://books.toscrape.com/catalogue/the-dirty-...  \n",
       "7  http://books.toscrape.com/catalogue/the-coming...  \n",
       "8  http://books.toscrape.com/catalogue/the-boys-i...  \n",
       "9  http://books.toscrape.com/catalogue/the-black-...  "
      ]
     },
     "execution_count": 8,
     "metadata": {},
     "output_type": "execute_result"
    }
   ],
   "source": [
    "import pandas as pd\n",
    "\n",
    "df = pd.DataFrame(bookinfo)\n",
    "df.head(10)"
   ]
  },
  {
   "cell_type": "code",
   "execution_count": 9,
   "metadata": {},
   "outputs": [],
   "source": [
    "df.to_csv('books_to_scrape', index = None) #creating a csv file"
   ]
  },
  {
   "cell_type": "code",
   "execution_count": 10,
   "metadata": {},
   "outputs": [
    {
     "data": {
      "application/javascript": [
       "window.require && require([\"base/js/namespace\"],function(Jupyter){Jupyter.notebook.save_checkpoint()})"
      ],
      "text/plain": [
       "<IPython.core.display.Javascript object>"
      ]
     },
     "metadata": {},
     "output_type": "display_data"
    },
    {
     "name": "stdout",
     "output_type": "stream",
     "text": [
      "[jovian] Updating notebook \"alkabhambhu98/web-scraping\" on https://jovian.ai\u001b[0m\n",
      "[jovian] Committed successfully! https://jovian.ai/alkabhambhu98/web-scraping\u001b[0m\n"
     ]
    },
    {
     "data": {
      "text/plain": [
       "'https://jovian.ai/alkabhambhu98/web-scraping'"
      ]
     },
     "execution_count": 10,
     "metadata": {},
     "output_type": "execute_result"
    }
   ],
   "source": [
    "# Execute this to save new versions of the notebook\n",
    "jovian.commit(project=\"web-scraping\")"
   ]
  },
  {
   "cell_type": "markdown",
   "metadata": {},
   "source": [
    "### Summary\n",
    "\n",
    "For my first project, I wanted to use a test site to scrape the data. Hence, I used [Books to Scrape]('http://books.toscrape.com/index.html') to create a dataset of all the books available on the website through out 50 pages, using python libraries such as Requests, BeautifulSoup and Pandas and at the end converting the dataset into csv file.\n",
    "\n",
    "### Future Work\n",
    "\n",
    "For my future work, I would use a powerful tools like selenium and scrapy to automate the task and deep dive into the web-scraping.\n",
    "\n",
    "### References\n",
    "\n",
    "* [Let’s Build a Python Web Scraping Project from Scratch](https://www.youtube.com/watch?v=RKsLLG-bzEY) | Hands-On Tutorial by Aakash N S, CEO, Jovian.\n",
    "\n",
    "* Beautiful Soup [Documentation](https://www.crummy.com/software/BeautifulSoup/bs4/doc/)\n",
    "\n",
    "* Image [Source](https://i.pinimg.com/564x/21/4c/cf/214ccffd449f7c7fd9693e4cf7a913d3.jpg)\n",
    "\n",
    "* [Stackoverflow](https://stackoverflow.com/questions/54861405/scraping-multiple-pages-in-python-with-beautifulsoup)\n"
   ]
  }
 ],
 "metadata": {
  "language_info": {
   "codemirror_mode": {
    "name": "ipython",
    "version": 3
   },
   "file_extension": ".py",
   "mimetype": "text/x-python",
   "name": "python",
   "nbconvert_exporter": "python",
   "pygments_lexer": "ipython3",
   "version": "3.9.6"
  }
 },
 "nbformat": 4,
 "nbformat_minor": 2
}